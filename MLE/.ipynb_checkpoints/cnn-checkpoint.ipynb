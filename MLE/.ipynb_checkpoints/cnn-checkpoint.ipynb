{
 "cells": [
  {
   "cell_type": "code",
   "execution_count": 1,
   "metadata": {},
   "outputs": [
    {
     "data": {
      "text/plain": [
       "8030"
      ]
     },
     "execution_count": 1,
     "metadata": {},
     "output_type": "execute_result"
    }
   ],
   "source": [
    "import pandas as pd\n",
    "from sklearn.preprocessing import StandardScaler\n",
    "\n",
    "data = pd.read_csv(r\"_prices.csv\")\n",
    "\n",
    "columns = [data.iloc[:, i].to_numpy() for i in range(1,len(data.columns))]\n",
    "series = list(map(list, zip(*columns)))\n",
    "\n",
    "# Normalization of the data\n",
    "scaler = StandardScaler()\n",
    "series = scaler.fit_transform(series)\n",
    "\n",
    "len(series)"
   ]
  },
  {
   "cell_type": "code",
   "execution_count": 2,
   "metadata": {},
   "outputs": [],
   "source": [
    "import numpy as np\n",
    "\n",
    "def create_sequences(data, seq_length):\n",
    "    xs, ys = [], []\n",
    "    for i in range(len(data) - seq_length):\n",
    "        x = data[i:i+seq_length]\n",
    "        y = data[i+seq_length]\n",
    "        xs.append(x)\n",
    "        ys.append(y)\n",
    "    return np.array(xs), np.array(ys)\n",
    "\n",
    "lags = 3\n",
    "X, y = create_sequences(series, lags)"
   ]
  },
  {
   "cell_type": "code",
   "execution_count": 25,
   "metadata": {},
   "outputs": [
    {
     "data": {
      "text/plain": [
       "array([[[-0.34512515, -0.35046261, -0.95733116, ..., -0.42328962,\n",
       "         -0.46588919, -0.58543242],\n",
       "        [-0.64028396, -0.85504627, -0.95733116, ..., -0.16901883,\n",
       "         -0.20487504, -0.26283761],\n",
       "        [-0.23007828, -0.35046261, -0.32702017, ..., -0.36062927,\n",
       "         -0.28592579, -0.44909521]],\n",
       "\n",
       "       [[-0.64028396, -0.85504627, -0.95733116, ..., -0.16901883,\n",
       "         -0.20487504, -0.26283761],\n",
       "        [-0.23007828, -0.35046261, -0.32702017, ..., -0.36062927,\n",
       "         -0.28592579, -0.44909521],\n",
       "        [-0.40752846, -0.43400295, -0.6546984 , ..., -0.35337049,\n",
       "         -0.27555437, -0.37400487]],\n",
       "\n",
       "       [[-0.23007828, -0.35046261, -0.32702017, ..., -0.36062927,\n",
       "         -0.28592579, -0.44909521],\n",
       "        [-0.40752846, -0.43400295, -0.6546984 , ..., -0.35337049,\n",
       "         -0.27555437, -0.37400487],\n",
       "        [-0.39392395, -0.43400295, -0.4313763 , ..., -0.35742687,\n",
       "         -0.31050991, -0.2890563 ]],\n",
       "\n",
       "       ...,\n",
       "\n",
       "       [[-0.40457096, -0.38354459, -0.37293687, ..., -0.41837927,\n",
       "         -0.36697654, -0.30185103],\n",
       "        [-0.22682502, -0.14528754, -0.04525864, ..., -0.49374248,\n",
       "         -0.48067807, -0.48412339],\n",
       "        [-0.37292568, -0.43667624, -0.43596797, ..., -0.49673139,\n",
       "         -0.48643997, -0.47426516]],\n",
       "\n",
       "       [[-0.22682502, -0.14528754, -0.04525864, ..., -0.49374248,\n",
       "         -0.48067807, -0.48412339],\n",
       "        [-0.37292568, -0.43667624, -0.43596797, ..., -0.49673139,\n",
       "         -0.48643997, -0.47426516],\n",
       "        [-0.42970974, -0.44102034, -0.44014221, ..., -0.46321291,\n",
       "         -0.42209873, -0.43525174]],\n",
       "\n",
       "       [[-0.37292568, -0.43667624, -0.43596797, ..., -0.49673139,\n",
       "         -0.48643997, -0.47426516],\n",
       "        [-0.42970974, -0.44102034, -0.44014221, ..., -0.46321291,\n",
       "         -0.42209873, -0.43525174],\n",
       "        [-0.38150244, -0.3912303 , -0.43095887, ..., -0.42457058,\n",
       "         -0.40174001, -0.33268421]]])"
      ]
     },
     "execution_count": 25,
     "metadata": {},
     "output_type": "execute_result"
    }
   ],
   "source": [
    "train_size = int(0.8 * len(X))\n",
    "X_train = X[:train_size]\n",
    "X_test = X[train_size:]\n",
    "y_train = y[:train_size]\n",
    "y_test = y[train_size:]\n",
    "len(y_train)\n",
    "X_train"
   ]
  },
  {
   "cell_type": "code",
   "execution_count": 27,
   "metadata": {},
   "outputs": [],
   "source": [
    "# X_train = X_train.reshape(X_train.shape[0], X_train.shape[1], 24)\n",
    "# X_test = X_test.reshape(X_test.shape[0], X_test.shape[1], 24)\n",
    "# X_train"
   ]
  },
  {
   "cell_type": "code",
   "execution_count": 42,
   "metadata": {},
   "outputs": [],
   "source": [
    "import torch\n",
    "import torch.nn.functional as F\n",
    "\n",
    "class CNN(torch.nn.Module):\n",
    "    def __init__(self, in_channels, num_classes=1):\n",
    "        super(CNN, self).__init__()\n",
    "\n",
    "        self.conv = torch.nn.Conv1d(in_channels=in_channels, out_channels=8, kernel_size=2)\n",
    "        self.pool = torch.nn.MaxPool1d(kernel_size=2, stride=1)\n",
    "        self.fc = torch.nn.Linear(8*22, num_classes)\n",
    "\n",
    "    def forward(self, x):\n",
    "        \n",
    "        x = F.relu(self.conv(x))\n",
    "        print(x.shape)\n",
    "        x = self.pool(x)\n",
    "        print(x.shape)\n",
    "        x = x.reshape(x.shape[0], -1)\n",
    "        print(x.shape)\n",
    "        x = self.fc(x)\n",
    "        print(x.shape)\n",
    "        print('---')\n",
    "        return x"
   ]
  },
  {
   "cell_type": "code",
   "execution_count": 43,
   "metadata": {},
   "outputs": [
    {
     "name": "stdout",
     "output_type": "stream",
     "text": [
      "torch.Size([6421, 8, 23])\n",
      "torch.Size([6421, 8, 22])\n",
      "torch.Size([6421, 176])\n",
      "torch.Size([6421, 1])\n",
      "---\n"
     ]
    },
    {
     "data": {
      "text/plain": [
       "tensor([[0.2793],\n",
       "        [0.2203],\n",
       "        [0.2630],\n",
       "        ...,\n",
       "        [0.2568],\n",
       "        [0.2446],\n",
       "        [0.2554]], grad_fn=<AddmmBackward0>)"
      ]
     },
     "execution_count": 43,
     "metadata": {},
     "output_type": "execute_result"
    }
   ],
   "source": [
    "model = CNN(3)\n",
    "\n",
    "optimizer = torch.optim.Adam(model.parameters(), lr=0.005)\n",
    "loss_fn = torch.nn.MSELoss()\n",
    "\n",
    "out = model(torch.tensor(X_train, dtype=torch.float32))\n",
    "len(out)\n",
    "out"
   ]
  }
 ],
 "metadata": {
  "kernelspec": {
   "display_name": "PyG",
   "language": "python",
   "name": "python3"
  },
  "language_info": {
   "codemirror_mode": {
    "name": "ipython",
    "version": 3
   },
   "file_extension": ".py",
   "mimetype": "text/x-python",
   "name": "python",
   "nbconvert_exporter": "python",
   "pygments_lexer": "ipython3",
   "version": "3.9.19"
  }
 },
 "nbformat": 4,
 "nbformat_minor": 2
}
