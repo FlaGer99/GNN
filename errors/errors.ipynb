{
 "cells": [
  {
   "cell_type": "code",
   "execution_count": 38,
   "id": "e9763a7a-b075-43a6-9dd4-d681336f72f2",
   "metadata": {},
   "outputs": [],
   "source": [
    "import pandas as pd\n",
    "data_tgcn = pd.read_csv(r'errori_TGCN.csv')\n",
    "data_gconv = pd.read_csv(r'errori_GConv.csv')\n",
    "data_evolve = pd.read_csv(r'errori_Evolve.csv')"
   ]
  },
  {
   "cell_type": "code",
   "execution_count": 39,
   "id": "f1c67c54-46c8-4b49-804e-457a30efab00",
   "metadata": {},
   "outputs": [
    {
     "data": {
      "text/html": [
       "<div>\n",
       "<style scoped>\n",
       "    .dataframe tbody tr th:only-of-type {\n",
       "        vertical-align: middle;\n",
       "    }\n",
       "\n",
       "    .dataframe tbody tr th {\n",
       "        vertical-align: top;\n",
       "    }\n",
       "\n",
       "    .dataframe thead th {\n",
       "        text-align: right;\n",
       "    }\n",
       "</style>\n",
       "<table border=\"1\" class=\"dataframe\">\n",
       "  <thead>\n",
       "    <tr style=\"text-align: right;\">\n",
       "      <th></th>\n",
       "      <th>b</th>\n",
       "      <th>d</th>\n",
       "    </tr>\n",
       "  </thead>\n",
       "  <tbody>\n",
       "    <tr>\n",
       "      <th>0</th>\n",
       "      <td>825.1</td>\n",
       "      <td>9.1</td>\n",
       "    </tr>\n",
       "    <tr>\n",
       "      <th>1</th>\n",
       "      <td>436.8</td>\n",
       "      <td>7.9</td>\n",
       "    </tr>\n",
       "    <tr>\n",
       "      <th>2</th>\n",
       "      <td>229.0</td>\n",
       "      <td>6.9</td>\n",
       "    </tr>\n",
       "    <tr>\n",
       "      <th>3</th>\n",
       "      <td>368.8</td>\n",
       "      <td>7.0</td>\n",
       "    </tr>\n",
       "    <tr>\n",
       "      <th>4</th>\n",
       "      <td>488.5</td>\n",
       "      <td>7.5</td>\n",
       "    </tr>\n",
       "    <tr>\n",
       "      <th>5</th>\n",
       "      <td>1157.5</td>\n",
       "      <td>9.5</td>\n",
       "    </tr>\n",
       "    <tr>\n",
       "      <th>6</th>\n",
       "      <td>3669.5</td>\n",
       "      <td>19.9</td>\n",
       "    </tr>\n",
       "    <tr>\n",
       "      <th>7</th>\n",
       "      <td>5318.3</td>\n",
       "      <td>24.5</td>\n",
       "    </tr>\n",
       "    <tr>\n",
       "      <th>8</th>\n",
       "      <td>6224.9</td>\n",
       "      <td>27.2</td>\n",
       "    </tr>\n",
       "    <tr>\n",
       "      <th>9</th>\n",
       "      <td>8446.9</td>\n",
       "      <td>34.0</td>\n",
       "    </tr>\n",
       "    <tr>\n",
       "      <th>10</th>\n",
       "      <td>11866.6</td>\n",
       "      <td>45.3</td>\n",
       "    </tr>\n",
       "    <tr>\n",
       "      <th>11</th>\n",
       "      <td>13076.9</td>\n",
       "      <td>50.4</td>\n",
       "    </tr>\n",
       "    <tr>\n",
       "      <th>12</th>\n",
       "      <td>11473.1</td>\n",
       "      <td>46.4</td>\n",
       "    </tr>\n",
       "    <tr>\n",
       "      <th>13</th>\n",
       "      <td>14885.0</td>\n",
       "      <td>53.3</td>\n",
       "    </tr>\n",
       "    <tr>\n",
       "      <th>14</th>\n",
       "      <td>14571.6</td>\n",
       "      <td>51.5</td>\n",
       "    </tr>\n",
       "    <tr>\n",
       "      <th>15</th>\n",
       "      <td>15721.8</td>\n",
       "      <td>55.1</td>\n",
       "    </tr>\n",
       "    <tr>\n",
       "      <th>16</th>\n",
       "      <td>21267.2</td>\n",
       "      <td>69.2</td>\n",
       "    </tr>\n",
       "    <tr>\n",
       "      <th>17</th>\n",
       "      <td>24400.5</td>\n",
       "      <td>77.6</td>\n",
       "    </tr>\n",
       "    <tr>\n",
       "      <th>18</th>\n",
       "      <td>16390.5</td>\n",
       "      <td>55.5</td>\n",
       "    </tr>\n",
       "    <tr>\n",
       "      <th>19</th>\n",
       "      <td>12377.8</td>\n",
       "      <td>46.0</td>\n",
       "    </tr>\n",
       "    <tr>\n",
       "      <th>20</th>\n",
       "      <td>8058.3</td>\n",
       "      <td>35.7</td>\n",
       "    </tr>\n",
       "    <tr>\n",
       "      <th>21</th>\n",
       "      <td>4244.2</td>\n",
       "      <td>25.0</td>\n",
       "    </tr>\n",
       "    <tr>\n",
       "      <th>22</th>\n",
       "      <td>2117.0</td>\n",
       "      <td>14.4</td>\n",
       "    </tr>\n",
       "    <tr>\n",
       "      <th>23</th>\n",
       "      <td>1634.4</td>\n",
       "      <td>13.5</td>\n",
       "    </tr>\n",
       "  </tbody>\n",
       "</table>\n",
       "</div>"
      ],
      "text/plain": [
       "          b     d\n",
       "0     825.1   9.1\n",
       "1     436.8   7.9\n",
       "2     229.0   6.9\n",
       "3     368.8   7.0\n",
       "4     488.5   7.5\n",
       "5    1157.5   9.5\n",
       "6    3669.5  19.9\n",
       "7    5318.3  24.5\n",
       "8    6224.9  27.2\n",
       "9    8446.9  34.0\n",
       "10  11866.6  45.3\n",
       "11  13076.9  50.4\n",
       "12  11473.1  46.4\n",
       "13  14885.0  53.3\n",
       "14  14571.6  51.5\n",
       "15  15721.8  55.1\n",
       "16  21267.2  69.2\n",
       "17  24400.5  77.6\n",
       "18  16390.5  55.5\n",
       "19  12377.8  46.0\n",
       "20   8058.3  35.7\n",
       "21   4244.2  25.0\n",
       "22   2117.0  14.4\n",
       "23   1634.4  13.5"
      ]
     },
     "execution_count": 39,
     "metadata": {},
     "output_type": "execute_result"
    }
   ],
   "source": [
    "data_tgcn = data_tgcn.iloc[:,[1,3]]\n",
    "data_evolve = data_evolve.iloc[:,[1,3]]\n",
    "data_gconv = data_gconv.iloc[:,[1,3]]\n",
    "data_gconv"
   ]
  },
  {
   "cell_type": "code",
   "execution_count": 11,
   "id": "f190e1e5-dd78-4597-9281-207fec12e41a",
   "metadata": {},
   "outputs": [],
   "source": [
    "import numpy as np"
   ]
  },
  {
   "cell_type": "code",
   "execution_count": 16,
   "id": "d956ee2d-c707-4588-ab67-a93126b79d7c",
   "metadata": {},
   "outputs": [
    {
     "data": {
      "text/plain": [
       "9138.941666666668"
      ]
     },
     "execution_count": 16,
     "metadata": {},
     "output_type": "execute_result"
    }
   ],
   "source": [
    "np.mean(data_tgcn.iloc[:,0]) #MSE TGCN"
   ]
  },
  {
   "cell_type": "code",
   "execution_count": 17,
   "id": "d4884ce1-384f-4aa7-8c15-569a94d44472",
   "metadata": {},
   "outputs": [
    {
     "data": {
      "text/plain": [
       "8302.091666666667"
      ]
     },
     "execution_count": 17,
     "metadata": {},
     "output_type": "execute_result"
    }
   ],
   "source": [
    "np.mean(data_gconv.iloc[:,0]) #MSE GConv"
   ]
  },
  {
   "cell_type": "code",
   "execution_count": 18,
   "id": "84dbe708-b5e5-4d58-8126-766c566b6b3c",
   "metadata": {},
   "outputs": [
    {
     "data": {
      "text/plain": [
       "8307.35"
      ]
     },
     "execution_count": 18,
     "metadata": {},
     "output_type": "execute_result"
    }
   ],
   "source": [
    "np.mean(data_evolve.iloc[:,0]) #MSE Evolve"
   ]
  },
  {
   "cell_type": "code",
   "execution_count": 19,
   "id": "6a820c66-2927-41ad-8ee0-490111cc1162",
   "metadata": {},
   "outputs": [
    {
     "data": {
      "text/plain": [
       "35.074999999999996"
      ]
     },
     "execution_count": 19,
     "metadata": {},
     "output_type": "execute_result"
    }
   ],
   "source": [
    "np.mean(data_tgcn.iloc[:,1]) #MAE TGCN"
   ]
  },
  {
   "cell_type": "code",
   "execution_count": 20,
   "id": "7b8654d4-e4c7-4543-a288-6f1966ea23be",
   "metadata": {},
   "outputs": [
    {
     "data": {
      "text/plain": [
       "33.016666666666666"
      ]
     },
     "execution_count": 20,
     "metadata": {},
     "output_type": "execute_result"
    }
   ],
   "source": [
    "np.mean(data_gconv.iloc[:,1]) #MAE GConv"
   ]
  },
  {
   "cell_type": "code",
   "execution_count": 21,
   "id": "09b9c038-bd4e-4673-b9e6-2adfff86540a",
   "metadata": {},
   "outputs": [
    {
     "data": {
      "text/plain": [
       "33.225"
      ]
     },
     "execution_count": 21,
     "metadata": {},
     "output_type": "execute_result"
    }
   ],
   "source": [
    "np.mean(data_evolve.iloc[:,1]) #MAE Evolve"
   ]
  },
  {
   "cell_type": "code",
   "execution_count": null,
   "id": "0aa5bae0-077d-4dfc-ad04-0a829eaad31b",
   "metadata": {},
   "outputs": [],
   "source": []
  },
  {
   "cell_type": "code",
   "execution_count": null,
   "id": "f65976b4-1522-4249-8d10-d77fd92e1da4",
   "metadata": {},
   "outputs": [],
   "source": []
  },
  {
   "cell_type": "code",
   "execution_count": null,
   "id": "ca3ea6c3-38ba-4808-81e8-28096b13af39",
   "metadata": {},
   "outputs": [],
   "source": []
  },
  {
   "cell_type": "code",
   "execution_count": 32,
   "id": "e7f9ea0d-9511-4e49-b8b6-4daa7a9c4e4a",
   "metadata": {},
   "outputs": [],
   "source": [
    "import pandas as pd\n",
    "errors_var = pd.read_csv('errors_var.csv')\n",
    "errors_ar = pd.read_csv('ar_errors.csv')\n",
    "#mse_var['mse_train_naive'] = mse_train_naive\n",
    "#mse_var['mse_test_test_naive'] = mse_test_naive \n",
    "errors_var = errors_var.round(1).applymap(lambda x: f'{x:.1f}'.rstrip('0').rstrip('.'))\n",
    "errors_ar = errors_ar.round(1).applymap(lambda x: f'{x:.1f}'.rstrip('0').rstrip('.'))\n",
    "errors_var = errors_var.apply(pd.to_numeric, errors='coerce')\n",
    "errors_ar = errors_ar.apply(pd.to_numeric, errors='coerce')"
   ]
  },
  {
   "cell_type": "code",
   "execution_count": 33,
   "id": "5b83212e-d49e-48ef-b871-bd2a6ba6d7f9",
   "metadata": {},
   "outputs": [],
   "source": [
    "import numpy as np\n",
    "\n",
    "mse_var = np.mean(errors_var.iloc[:,0])\n",
    "mae_var = np.mean(errors_var.iloc[:,1])\n",
    "mse_ar = np.mean(errors_ar.iloc[:,0])\n",
    "mae_ar = np.mean(errors_ar.iloc[:,1])"
   ]
  },
  {
   "cell_type": "code",
   "execution_count": 36,
   "id": "5d0d69cb-d2fb-4b22-acae-f036279946ad",
   "metadata": {},
   "outputs": [
    {
     "data": {
      "text/plain": [
       "7962.787499999999"
      ]
     },
     "execution_count": 36,
     "metadata": {},
     "output_type": "execute_result"
    }
   ],
   "source": [
    "mse_var"
   ]
  },
  {
   "cell_type": "code",
   "execution_count": 37,
   "id": "98d28f23-26fc-4d2f-b445-5e744531abdb",
   "metadata": {},
   "outputs": [
    {
     "data": {
      "text/html": [
       "<div>\n",
       "<style scoped>\n",
       "    .dataframe tbody tr th:only-of-type {\n",
       "        vertical-align: middle;\n",
       "    }\n",
       "\n",
       "    .dataframe tbody tr th {\n",
       "        vertical-align: top;\n",
       "    }\n",
       "\n",
       "    .dataframe thead th {\n",
       "        text-align: right;\n",
       "    }\n",
       "</style>\n",
       "<table border=\"1\" class=\"dataframe\">\n",
       "  <thead>\n",
       "    <tr style=\"text-align: right;\">\n",
       "      <th></th>\n",
       "      <th>y1</th>\n",
       "      <th>y2</th>\n",
       "    </tr>\n",
       "  </thead>\n",
       "  <tbody>\n",
       "    <tr>\n",
       "      <th>0</th>\n",
       "      <td>552.2</td>\n",
       "      <td>7.2</td>\n",
       "    </tr>\n",
       "    <tr>\n",
       "      <th>1</th>\n",
       "      <td>283.1</td>\n",
       "      <td>6.4</td>\n",
       "    </tr>\n",
       "    <tr>\n",
       "      <th>2</th>\n",
       "      <td>213.3</td>\n",
       "      <td>6.6</td>\n",
       "    </tr>\n",
       "    <tr>\n",
       "      <th>3</th>\n",
       "      <td>320.6</td>\n",
       "      <td>6.9</td>\n",
       "    </tr>\n",
       "    <tr>\n",
       "      <th>4</th>\n",
       "      <td>457.6</td>\n",
       "      <td>7.7</td>\n",
       "    </tr>\n",
       "    <tr>\n",
       "      <th>5</th>\n",
       "      <td>1124.3</td>\n",
       "      <td>9.0</td>\n",
       "    </tr>\n",
       "    <tr>\n",
       "      <th>6</th>\n",
       "      <td>3459.6</td>\n",
       "      <td>18.7</td>\n",
       "    </tr>\n",
       "    <tr>\n",
       "      <th>7</th>\n",
       "      <td>4947.2</td>\n",
       "      <td>24.7</td>\n",
       "    </tr>\n",
       "    <tr>\n",
       "      <th>8</th>\n",
       "      <td>5862.9</td>\n",
       "      <td>28.2</td>\n",
       "    </tr>\n",
       "    <tr>\n",
       "      <th>9</th>\n",
       "      <td>8021.8</td>\n",
       "      <td>32.6</td>\n",
       "    </tr>\n",
       "    <tr>\n",
       "      <th>10</th>\n",
       "      <td>10964.2</td>\n",
       "      <td>43.8</td>\n",
       "    </tr>\n",
       "    <tr>\n",
       "      <th>11</th>\n",
       "      <td>12292.0</td>\n",
       "      <td>48.3</td>\n",
       "    </tr>\n",
       "    <tr>\n",
       "      <th>12</th>\n",
       "      <td>10768.7</td>\n",
       "      <td>46.2</td>\n",
       "    </tr>\n",
       "    <tr>\n",
       "      <th>13</th>\n",
       "      <td>14244.2</td>\n",
       "      <td>52.9</td>\n",
       "    </tr>\n",
       "    <tr>\n",
       "      <th>14</th>\n",
       "      <td>14237.1</td>\n",
       "      <td>51.6</td>\n",
       "    </tr>\n",
       "    <tr>\n",
       "      <th>15</th>\n",
       "      <td>15219.8</td>\n",
       "      <td>54.5</td>\n",
       "    </tr>\n",
       "    <tr>\n",
       "      <th>16</th>\n",
       "      <td>20610.3</td>\n",
       "      <td>71.2</td>\n",
       "    </tr>\n",
       "    <tr>\n",
       "      <th>17</th>\n",
       "      <td>23003.1</td>\n",
       "      <td>83.2</td>\n",
       "    </tr>\n",
       "    <tr>\n",
       "      <th>18</th>\n",
       "      <td>15631.2</td>\n",
       "      <td>59.6</td>\n",
       "    </tr>\n",
       "    <tr>\n",
       "      <th>19</th>\n",
       "      <td>12039.2</td>\n",
       "      <td>50.7</td>\n",
       "    </tr>\n",
       "    <tr>\n",
       "      <th>20</th>\n",
       "      <td>8418.6</td>\n",
       "      <td>41.9</td>\n",
       "    </tr>\n",
       "    <tr>\n",
       "      <th>21</th>\n",
       "      <td>4516.1</td>\n",
       "      <td>32.6</td>\n",
       "    </tr>\n",
       "    <tr>\n",
       "      <th>22</th>\n",
       "      <td>2240.7</td>\n",
       "      <td>17.0</td>\n",
       "    </tr>\n",
       "    <tr>\n",
       "      <th>23</th>\n",
       "      <td>1679.1</td>\n",
       "      <td>15.4</td>\n",
       "    </tr>\n",
       "  </tbody>\n",
       "</table>\n",
       "</div>"
      ],
      "text/plain": [
       "         y1    y2\n",
       "0     552.2   7.2\n",
       "1     283.1   6.4\n",
       "2     213.3   6.6\n",
       "3     320.6   6.9\n",
       "4     457.6   7.7\n",
       "5    1124.3   9.0\n",
       "6    3459.6  18.7\n",
       "7    4947.2  24.7\n",
       "8    5862.9  28.2\n",
       "9    8021.8  32.6\n",
       "10  10964.2  43.8\n",
       "11  12292.0  48.3\n",
       "12  10768.7  46.2\n",
       "13  14244.2  52.9\n",
       "14  14237.1  51.6\n",
       "15  15219.8  54.5\n",
       "16  20610.3  71.2\n",
       "17  23003.1  83.2\n",
       "18  15631.2  59.6\n",
       "19  12039.2  50.7\n",
       "20   8418.6  41.9\n",
       "21   4516.1  32.6\n",
       "22   2240.7  17.0\n",
       "23   1679.1  15.4"
      ]
     },
     "execution_count": 37,
     "metadata": {},
     "output_type": "execute_result"
    }
   ],
   "source": [
    "errors_var"
   ]
  },
  {
   "cell_type": "code",
   "execution_count": 28,
   "id": "43456a43-3100-4ad4-b0e9-8f63c9d4bf91",
   "metadata": {},
   "outputs": [],
   "source": [
    "import pandas as pd\n",
    "tgcn = pd.read_csv('../plot/compare/test_TGCN.csv')\n",
    "gru = pd.read_csv('../plot/compare/test_ChebConvGRU.csv')\n",
    "lstm1 = pd.read_csv('../plot/compare/test_ChebConvLSTM.csv')\n",
    "var = pd.read_csv('../plot/compare/test_var.csv')\n",
    "var = var.apply(pd.to_numeric)"
   ]
  },
  {
   "cell_type": "code",
   "execution_count": 29,
   "id": "2a5eb916-7f71-4746-b92e-fd3127006c6e",
   "metadata": {},
   "outputs": [],
   "source": [
    "lstm = lstm1.iloc[3:,23]\n",
    "gt = lstm1.iloc[3:,-1]"
   ]
  },
  {
   "cell_type": "code",
   "execution_count": 30,
   "id": "33d87ae8-fbdf-49c1-9ce9-d5235b4c3184",
   "metadata": {},
   "outputs": [],
   "source": [
    "tgcn = tgcn.iloc[3:,23]\n",
    "gru = gru.iloc[3:,23]"
   ]
  },
  {
   "cell_type": "code",
   "execution_count": 38,
   "id": "10ff2978-a99c-4cc7-9ad1-4598019503a0",
   "metadata": {},
   "outputs": [
    {
     "data": {
      "text/plain": [
       "Vector1    31.895728\n",
       "Name: 0, dtype: float64"
      ]
     },
     "execution_count": 38,
     "metadata": {},
     "output_type": "execute_result"
    }
   ],
   "source": [
    "var.iloc[0]"
   ]
  },
  {
   "cell_type": "code",
   "execution_count": 31,
   "id": "b11f1580-b39d-4e53-b215-b07cbf31d3c8",
   "metadata": {},
   "outputs": [
    {
     "ename": "TypeError",
     "evalue": "unsupported operand type(s) for -: 'str' and 'float'",
     "output_type": "error",
     "traceback": [
      "\u001b[0;31m---------------------------------------------------------------------------\u001b[0m",
      "\u001b[0;31mTypeError\u001b[0m                                 Traceback (most recent call last)",
      "Cell \u001b[0;32mIn[31], line 2\u001b[0m\n\u001b[1;32m      1\u001b[0m diff1 \u001b[38;5;241m=\u001b[39m [a \u001b[38;5;241m-\u001b[39m b \u001b[38;5;28;01mfor\u001b[39;00m a, b \u001b[38;5;129;01min\u001b[39;00m \u001b[38;5;28mzip\u001b[39m(tgcn, gt)]\n\u001b[0;32m----> 2\u001b[0m diff2 \u001b[38;5;241m=\u001b[39m [\u001b[43ma\u001b[49m\u001b[43m \u001b[49m\u001b[38;5;241;43m-\u001b[39;49m\u001b[43m \u001b[49m\u001b[43mb\u001b[49m \u001b[38;5;28;01mfor\u001b[39;00m a, b \u001b[38;5;129;01min\u001b[39;00m \u001b[38;5;28mzip\u001b[39m(var, gt)]\n\u001b[1;32m      3\u001b[0m diff3 \u001b[38;5;241m=\u001b[39m [a \u001b[38;5;241m-\u001b[39m b \u001b[38;5;28;01mfor\u001b[39;00m a, b \u001b[38;5;129;01min\u001b[39;00m \u001b[38;5;28mzip\u001b[39m(lstm, gt)]\n\u001b[1;32m      4\u001b[0m diff4 \u001b[38;5;241m=\u001b[39m [a \u001b[38;5;241m-\u001b[39m b \u001b[38;5;28;01mfor\u001b[39;00m a, b \u001b[38;5;129;01min\u001b[39;00m \u001b[38;5;28mzip\u001b[39m(gru, gt)]\n",
      "\u001b[0;31mTypeError\u001b[0m: unsupported operand type(s) for -: 'str' and 'float'"
     ]
    }
   ],
   "source": [
    "diff1 = [a - b for a, b in zip(tgcn, gt)]\n",
    "diff2 = [a - b for a, b in zip(var, gt)]\n",
    "diff3 = [a - b for a, b in zip(lstm, gt)]\n",
    "diff4 = [a - b for a, b in zip(gru, gt)]\n",
    "fd = 200\n",
    "id = 100\n",
    "fig, axs = plt.subplots(2, 1, figsize=(16, 7))\n",
    "axs[0].plot(gru[id:fd], label=\"ChebConvGRU\")\n",
    "axs[0].plot(lstm[id:fd], label=\"ChebConvLSTM\")\n",
    "axs[0].plot(tgcn[id:fd], label=\"TGCN\")\n",
    "axs[0].plot(var[id:fd], label=\"VAR\")\n",
    "axs[0].plot(gt[id:fd], label=\"Ground Truth\")\n",
    "axs[0].legend()\n",
    "#axs[0,1].set_ylim(-40,1040)\n",
    "#axs[1].set_title(\"Daily series at \"+inverse_dict[hour2]+\" in first \"+str(fd)+\" days of the test set\")\n",
    "axs[0].plot(diff4[id:fd], label=\"ChebConvGRU\")\n",
    "axs[0].plot(diff3[id:fd], label=\"ChebConvLSTM\")\n",
    "axs[0].plot(diff1[id:fd], label=\"TGCN\")\n",
    "axs[0].plot(diff2[id:fd], label=\"VAR\")\n",
    "axs[1].legend()\n",
    "#axs[1,1].set_ylim(-1040,1040)\n",
    "axs[1].set_title(\"Residuals\")\n",
    "plt.show()"
   ]
  }
 ],
 "metadata": {
  "kernelspec": {
   "display_name": "py312_geomtemp_090624",
   "language": "python",
   "name": "py312_geomtemp_090624"
  },
  "language_info": {
   "codemirror_mode": {
    "name": "ipython",
    "version": 3
   },
   "file_extension": ".py",
   "mimetype": "text/x-python",
   "name": "python",
   "nbconvert_exporter": "python",
   "pygments_lexer": "ipython3",
   "version": "3.12.2"
  }
 },
 "nbformat": 4,
 "nbformat_minor": 5
}
